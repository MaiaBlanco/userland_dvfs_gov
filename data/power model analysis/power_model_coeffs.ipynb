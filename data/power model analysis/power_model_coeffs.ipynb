{
 "cells": [
  {
   "cell_type": "code",
   "execution_count": 1,
   "metadata": {},
   "outputs": [
    {
     "name": "stderr",
     "output_type": "stream",
     "text": [
      "/usr/local/lib/python3.5/dist-packages/pandas/core/computation/__init__.py:18: UserWarning: The installed version of numexpr 2.4.3 is not supported in pandas and will be not be used\n",
      "The minimum supported version is 2.4.6\n",
      "\n",
      "  ver=ver, min_ver=_MIN_NUMEXPR_VERSION), UserWarning)\n"
     ]
    }
   ],
   "source": [
    "import sys\n",
    "import numpy as np\n",
    "# import scikitlearn\n",
    "import matplotlib\n",
    "import pandas as pd\n",
    "import glob\n",
    "\n",
    "# Local includes:\n",
    "sys.path.append(\"../../src\")\n",
    "import therm_params as tp\n",
    "from power_model import (\n",
    "    leakage_power,\n",
    "    peripheral_power,\n",
    "    board_power\n",
    ")\n"
   ]
  },
  {
   "cell_type": "code",
   "execution_count": 2,
   "metadata": {},
   "outputs": [],
   "source": [
    "blackscholes_files = glob.glob(\"/home/mark/Documents/Repos/userland_dvfs_gov/data/blackscholes_benchmarking/*.csv\")\n",
    "bodytrack_files = glob.glob(\"/home/mark/Documents/Repos/userland_dvfs_gov/data/bodytrack_benchmarking/*.csv\")\n",
    "files = blackscholes_files"
   ]
  },
  {
   "cell_type": "code",
   "execution_count": 14,
   "metadata": {},
   "outputs": [],
   "source": [
    "df_list = []\n",
    "for file in files:\n",
    "    df = pd.read_csv(file, index_col=False, header=0, sep='\\t')\n",
    "    df_list.append(df)\n",
    "\n",
    "# for file in bodytrack_files:\n",
    "#     df = pd.read_csv(file, index_col=False, header=0, sep='\\t')\n",
    "#     df_list.append(df)\n",
    "\n",
    "data = pd.concat(df_list, ignore_index=True)\n",
    "# Drop all measurements where watts <= 0:\n",
    "data = data.loc[data.watts > 0]\n",
    "# fill in the potentially missing voltage values\n",
    "data.volts_big_cluster = data.freq_big_cluster.map(lambda x: tp.big_f_to_v[float(x)/1000000000])\n",
    "data.volts_little_cluster = data.freq_little_cluster.map(lambda x: tp.little_f_to_v[float(x)/1000000000])\n",
    "# Replace with correct value for gpu and mem voltage:\n",
    "data.volts_gpu = 1.0\n",
    "data.volts_mem = 1.2\n",
    "# Recompute the leakage power:\n",
    "data.['w_leak2'] = data.apply(lambda row: leakage_power(tp.c1, tp.c2, tp.igate, row.), axis=1)\n",
    "\n",
    "# data.drop([\"volts_big_cluster\", \"volts_little_cluster\", \"volts_mem\", \"volts_gpu\"], axis=1, inplace=True)\n",
    "\n",
    "data_filtered = pd.DataFrame()\n",
    "data_filtered[\"usage_little\"] = data[[\"usage_c0\", \"usage_c1\", \"usage_c2\", \"usage_c3\"]].apply(func = np.sum, axis=1)\n",
    "data_filtered[\"usage_big\"] = data[[\"usage_c4\", \"usage_c5\", \"usage_c6\", \"usage_c7\"]].apply(func = np.sum, axis=1)\n",
    "data_filtered[\"max_temp_big\"] = data[[\"temp4\", \"temp5\", \"temp6\", \"temp7\"]].apply(func = np.max)\n",
    "data_filtered[\"avg_temp_big\"] = data[[\"temp4\", \"temp5\", \"temp6\", \"temp7\"]].apply(func = np.mean)\n",
    "data_filtered[\"gpu_temp\"] = data.temp_gpu\n",
    "data_filtered[\"vvf_b\"] = data.freq_big_cluster.map(lambda x: tp.big_f_to_v[float(x)/1000000000]**2 * x)\n",
    "data_filtered[\"vvf_l\"] = data.freq_little_cluster.map(lambda x: tp.little_f_to_v[float(x)/1000000000]**2 * x)"
   ]
  },
  {
   "cell_type": "code",
   "execution_count": 15,
   "metadata": {},
   "outputs": [
    {
     "data": {
      "text/plain": [
       "Index(['freq_big_cluster', 'freq_gpu', 'freq_little_cluster', 'freq_mem',\n",
       "       'temp4', 'temp5', 'temp6', 'temp7', 'temp_gpu', 'time', 'usage_c0',\n",
       "       'usage_c1', 'usage_c2', 'usage_c3', 'usage_c4', 'usage_c5', 'usage_c6',\n",
       "       'usage_c7', 'volts_big_cluster', 'volts_gpu', 'volts_little_cluster',\n",
       "       'volts_mem', 'w_dyn', 'w_leak', 'w_periph', 'watts'],\n",
       "      dtype='object')"
      ]
     },
     "execution_count": 15,
     "metadata": {},
     "output_type": "execute_result"
    }
   ],
   "source": [
    "data.columns"
   ]
  },
  {
   "cell_type": "code",
   "execution_count": null,
   "metadata": {},
   "outputs": [],
   "source": [
    "tp.little_f_to_v"
   ]
  },
  {
   "cell_type": "code",
   "execution_count": null,
   "metadata": {},
   "outputs": [],
   "source": []
  }
 ],
 "metadata": {
  "kernelspec": {
   "display_name": "Python 3",
   "language": "python",
   "name": "python3"
  },
  "language_info": {
   "codemirror_mode": {
    "name": "ipython",
    "version": 3
   },
   "file_extension": ".py",
   "mimetype": "text/x-python",
   "name": "python",
   "nbconvert_exporter": "python",
   "pygments_lexer": "ipython3",
   "version": "3.5.2"
  }
 },
 "nbformat": 4,
 "nbformat_minor": 2
}
