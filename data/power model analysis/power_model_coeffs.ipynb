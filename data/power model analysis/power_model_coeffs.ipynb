{
 "cells": [
  {
   "cell_type": "code",
   "execution_count": 50,
   "metadata": {},
   "outputs": [],
   "source": [
    "import sys\n",
    "import numpy as np\n",
    "# import scikitlearn\n",
    "import matplotlib.pyplot as plt\n",
    "import pandas as pd\n",
    "import glob\n",
    "\n",
    "# ML Magic:\n",
    "from sklearn.linear_model import RidgeCV\n",
    "from sklearn.model_selection import (\n",
    "    train_test_split,\n",
    "    KFold\n",
    ")\n",
    "\n",
    "from sklearn.metrics import (\n",
    "    accuracy_score,\n",
    "    precision_score,\n",
    "    recall_score,\n",
    "    mean_squared_error\n",
    ")\n",
    "\n",
    "# Local includes:\n",
    "sys.path.append(\"../../src/\")\n",
    "import therm_params as tp\n",
    "from power_model import (\n",
    "    leakagePower,\n",
    "    peripheral_power,\n",
    "    board_power\n",
    ")\n"
   ]
  },
  {
   "cell_type": "code",
   "execution_count": 5,
   "metadata": {},
   "outputs": [],
   "source": [
    "# blackscholes_files = glob.glob(\"../blackscholes_benchmarking/*.csv\")\n",
    "blackscholes_files = [\"../blackscholes_benchmarking/userspace_ondemand_blackscholes.csv\"]\n",
    "bodytrack_files = glob.glob(\"../bodytrack_benchmarking/*.csv\")\n",
    "random_data = [\"../random_test.csv\"]\n",
    "files = random_data"
   ]
  },
  {
   "cell_type": "code",
   "execution_count": 91,
   "metadata": {},
   "outputs": [],
   "source": [
    "df_list = []\n",
    "\n",
    "def leak_row_big(row):\n",
    "    return leakagePower(tp.c1, tp.c2, tp.Igate, row.volts_big_cluster, \\\n",
    "            np.max( [row.temp4, row.temp5, row.temp6, row.temp7] ) + 273.15)\n",
    "    \n",
    "def leak_row_little(row):\n",
    "    return leakagePower(tp.c1, tp.c2, tp.Igate, row.volts_little_cluster, \\\n",
    "            np.mean( [row.temp4, row.temp5, row.temp6, row.temp7, row.temp_gpu] ) + 273.15)\n",
    "\n",
    "def leak_row_gpu(row):\n",
    "    return leakagePower(tp.c1, tp.c2, tp.Igate, row.volts_gpu, row.temp_gpu + 273.15 )\n",
    "\n",
    "def leak_row_mem(row):\n",
    "    return leakagePower(tp.c1, tp.c2, tp.Igate, row.volts_mem, \\\n",
    "            np.max( [row.temp4, row.temp5, row.temp6, row.temp7] ) + 273.15)\n",
    "\n",
    "for file in files:\n",
    "    df = pd.read_csv(file, index_col=False, header=0, sep='\\t')\n",
    "    df_list.append(df)\n",
    "\n",
    "# for file in bodytrack_files:\n",
    "#     df = pd.read_csv(file, index_col=False, header=0, sep='\\t')\n",
    "#     df_list.append(df)\n",
    "def process_dataframe_list(df_list):\n",
    "    data = pd.concat(df_list, ignore_index=True)\n",
    "    # Drop all measurements where watts <= 0:\n",
    "    data = data.loc[data.watts > 0]\n",
    "    # fill in the potentially missing voltage values\n",
    "    data[\"volts_big_cluster\"] = data.freq_big_cluster.map(lambda x: tp.big_f_to_v[float(x)/1000000000])\n",
    "    data[\"volts_little_cluster\"] = data.freq_little_cluster.map(lambda x: tp.little_f_to_v[float(x)/1000000000])\n",
    "    # Replace with correct value for gpu and mem voltage:\n",
    "    # data[\"volts_gpu\"] = 1.0\n",
    "    # data[\"volts_mem\"] = 1.2\n",
    "    # Recompute the leakage power:\n",
    "    data['leak_big'] = data.apply(leak_row_big, axis=1)\n",
    "    data['leak_little'] = data.apply(leak_row_little, axis=1)\n",
    "    # data['leak_gpu'] = data.apply(leak_row_gpu, axis=1)\n",
    "    # data['leak_mem'] = data.apply(leak_row_mem, axis=1)\n",
    "    data['w_leak2'] = data.apply(lambda row: np.sum( [row.leak_big, row.leak_little] ), axis=1)\n",
    "\n",
    "    data_filtered = pd.DataFrame()\n",
    "    data_filtered[\"usage_little\"] = data[[\"usage_c0\", \"usage_c1\", \"usage_c2\", \"usage_c3\"]].apply(func = np.sum, axis=1)\n",
    "    data_filtered[\"usage_big\"] = data[[\"usage_c4\", \"usage_c5\", \"usage_c6\", \"usage_c7\"]].apply(func = np.sum, axis=1)\n",
    "    data_filtered[\"max_temp_big\"] = data[[\"temp4\", \"temp5\", \"temp6\", \"temp7\"]].apply(func = np.max, axis=1)\n",
    "    data_filtered[\"avg_temp_big\"] = data[[\"temp4\", \"temp5\", \"temp6\", \"temp7\"]].apply(func = np.mean, axis=1)\n",
    "    data_filtered[\"gpu_temp\"] = data.temp_gpu\n",
    "    data_filtered[\"vvf_b\"] = data.freq_big_cluster.map(lambda x: tp.big_f_to_v[float(x)/1000000000]**2 * x)\n",
    "    data_filtered[\"vvf_l\"] = data.freq_little_cluster.map(lambda x: tp.little_f_to_v[float(x)/1000000000]**2 * x)\n",
    "    data_filtered[\"p_dyn\"] = data.apply(lambda row: row.watts - row.w_leak2 - peripheral_power, axis=1)\n",
    "    data_filtered[\"aVVFb\"] = data_filtered.apply(lambda row: row.usage_big * row.vvf_b, axis=1)\n",
    "    data_filtered[\"aVVFl\"] = data_filtered.apply(lambda row: row.usage_little * row.vvf_l, axis=1)\n",
    "    data_filtered[\"gpu_mem\"] = 1\n",
    "    data_filtered['p_total'] = data.watts\n",
    "    return data_filtered\n",
    "\n",
    "data_filtered = process_dataframe_list(df_list)"
   ]
  },
  {
   "cell_type": "code",
   "execution_count": 92,
   "metadata": {},
   "outputs": [
    {
     "data": {
      "text/html": [
       "<div>\n",
       "<style>\n",
       "    .dataframe thead tr:only-child th {\n",
       "        text-align: right;\n",
       "    }\n",
       "\n",
       "    .dataframe thead th {\n",
       "        text-align: left;\n",
       "    }\n",
       "\n",
       "    .dataframe tbody tr th {\n",
       "        vertical-align: top;\n",
       "    }\n",
       "</style>\n",
       "<table border=\"1\" class=\"dataframe\">\n",
       "  <thead>\n",
       "    <tr style=\"text-align: right;\">\n",
       "      <th></th>\n",
       "      <th>usage_little</th>\n",
       "      <th>usage_big</th>\n",
       "      <th>max_temp_big</th>\n",
       "      <th>avg_temp_big</th>\n",
       "      <th>gpu_temp</th>\n",
       "      <th>vvf_b</th>\n",
       "      <th>vvf_l</th>\n",
       "      <th>p_dyn</th>\n",
       "      <th>aVVFb</th>\n",
       "      <th>aVVFl</th>\n",
       "      <th>gpu_mem</th>\n",
       "      <th>p_total</th>\n",
       "    </tr>\n",
       "  </thead>\n",
       "  <tbody>\n",
       "    <tr>\n",
       "      <th>1</th>\n",
       "      <td>0.000000</td>\n",
       "      <td>0.000000</td>\n",
       "      <td>57.0</td>\n",
       "      <td>55.25</td>\n",
       "      <td>53.0</td>\n",
       "      <td>486000000.0</td>\n",
       "      <td>1.155625e+09</td>\n",
       "      <td>0.998293</td>\n",
       "      <td>0.000000e+00</td>\n",
       "      <td>0.000000e+00</td>\n",
       "      <td>1</td>\n",
       "      <td>3.416</td>\n",
       "    </tr>\n",
       "    <tr>\n",
       "      <th>2</th>\n",
       "      <td>0.000000</td>\n",
       "      <td>0.000000</td>\n",
       "      <td>57.0</td>\n",
       "      <td>55.00</td>\n",
       "      <td>53.0</td>\n",
       "      <td>486000000.0</td>\n",
       "      <td>1.155625e+09</td>\n",
       "      <td>0.998824</td>\n",
       "      <td>0.000000e+00</td>\n",
       "      <td>0.000000e+00</td>\n",
       "      <td>1</td>\n",
       "      <td>3.416</td>\n",
       "    </tr>\n",
       "    <tr>\n",
       "      <th>3</th>\n",
       "      <td>0.047619</td>\n",
       "      <td>0.050000</td>\n",
       "      <td>57.0</td>\n",
       "      <td>55.00</td>\n",
       "      <td>53.0</td>\n",
       "      <td>486000000.0</td>\n",
       "      <td>1.155625e+09</td>\n",
       "      <td>0.697824</td>\n",
       "      <td>2.430000e+07</td>\n",
       "      <td>5.502976e+07</td>\n",
       "      <td>1</td>\n",
       "      <td>3.115</td>\n",
       "    </tr>\n",
       "    <tr>\n",
       "      <th>4</th>\n",
       "      <td>0.000000</td>\n",
       "      <td>0.050000</td>\n",
       "      <td>56.0</td>\n",
       "      <td>54.75</td>\n",
       "      <td>53.0</td>\n",
       "      <td>486000000.0</td>\n",
       "      <td>1.155625e+09</td>\n",
       "      <td>0.692680</td>\n",
       "      <td>2.430000e+07</td>\n",
       "      <td>0.000000e+00</td>\n",
       "      <td>1</td>\n",
       "      <td>3.107</td>\n",
       "    </tr>\n",
       "    <tr>\n",
       "      <th>5</th>\n",
       "      <td>0.000000</td>\n",
       "      <td>0.047619</td>\n",
       "      <td>56.0</td>\n",
       "      <td>54.75</td>\n",
       "      <td>53.0</td>\n",
       "      <td>486000000.0</td>\n",
       "      <td>1.155625e+09</td>\n",
       "      <td>0.703680</td>\n",
       "      <td>2.314286e+07</td>\n",
       "      <td>0.000000e+00</td>\n",
       "      <td>1</td>\n",
       "      <td>3.118</td>\n",
       "    </tr>\n",
       "    <tr>\n",
       "      <th>6</th>\n",
       "      <td>0.000000</td>\n",
       "      <td>0.050000</td>\n",
       "      <td>56.0</td>\n",
       "      <td>54.75</td>\n",
       "      <td>53.0</td>\n",
       "      <td>486000000.0</td>\n",
       "      <td>1.155625e+09</td>\n",
       "      <td>0.703680</td>\n",
       "      <td>2.430000e+07</td>\n",
       "      <td>0.000000e+00</td>\n",
       "      <td>1</td>\n",
       "      <td>3.118</td>\n",
       "    </tr>\n",
       "    <tr>\n",
       "      <th>7</th>\n",
       "      <td>0.000000</td>\n",
       "      <td>0.000000</td>\n",
       "      <td>56.0</td>\n",
       "      <td>54.75</td>\n",
       "      <td>53.0</td>\n",
       "      <td>486000000.0</td>\n",
       "      <td>1.155625e+09</td>\n",
       "      <td>0.700680</td>\n",
       "      <td>0.000000e+00</td>\n",
       "      <td>0.000000e+00</td>\n",
       "      <td>1</td>\n",
       "      <td>3.115</td>\n",
       "    </tr>\n",
       "    <tr>\n",
       "      <th>8</th>\n",
       "      <td>0.000000</td>\n",
       "      <td>0.050000</td>\n",
       "      <td>56.0</td>\n",
       "      <td>54.75</td>\n",
       "      <td>53.0</td>\n",
       "      <td>486000000.0</td>\n",
       "      <td>1.155625e+09</td>\n",
       "      <td>0.692680</td>\n",
       "      <td>2.430000e+07</td>\n",
       "      <td>0.000000e+00</td>\n",
       "      <td>1</td>\n",
       "      <td>3.107</td>\n",
       "    </tr>\n",
       "    <tr>\n",
       "      <th>9</th>\n",
       "      <td>0.000000</td>\n",
       "      <td>0.000000</td>\n",
       "      <td>56.0</td>\n",
       "      <td>54.75</td>\n",
       "      <td>53.0</td>\n",
       "      <td>486000000.0</td>\n",
       "      <td>1.155625e+09</td>\n",
       "      <td>0.688680</td>\n",
       "      <td>0.000000e+00</td>\n",
       "      <td>0.000000e+00</td>\n",
       "      <td>1</td>\n",
       "      <td>3.103</td>\n",
       "    </tr>\n",
       "    <tr>\n",
       "      <th>10</th>\n",
       "      <td>0.000000</td>\n",
       "      <td>0.047619</td>\n",
       "      <td>56.0</td>\n",
       "      <td>54.75</td>\n",
       "      <td>53.0</td>\n",
       "      <td>486000000.0</td>\n",
       "      <td>1.155625e+09</td>\n",
       "      <td>0.688680</td>\n",
       "      <td>2.314286e+07</td>\n",
       "      <td>0.000000e+00</td>\n",
       "      <td>1</td>\n",
       "      <td>3.103</td>\n",
       "    </tr>\n",
       "  </tbody>\n",
       "</table>\n",
       "</div>"
      ],
      "text/plain": [
       "    usage_little  usage_big  max_temp_big  avg_temp_big  gpu_temp  \\\n",
       "1       0.000000   0.000000          57.0         55.25      53.0   \n",
       "2       0.000000   0.000000          57.0         55.00      53.0   \n",
       "3       0.047619   0.050000          57.0         55.00      53.0   \n",
       "4       0.000000   0.050000          56.0         54.75      53.0   \n",
       "5       0.000000   0.047619          56.0         54.75      53.0   \n",
       "6       0.000000   0.050000          56.0         54.75      53.0   \n",
       "7       0.000000   0.000000          56.0         54.75      53.0   \n",
       "8       0.000000   0.050000          56.0         54.75      53.0   \n",
       "9       0.000000   0.000000          56.0         54.75      53.0   \n",
       "10      0.000000   0.047619          56.0         54.75      53.0   \n",
       "\n",
       "          vvf_b         vvf_l     p_dyn         aVVFb         aVVFl  gpu_mem  \\\n",
       "1   486000000.0  1.155625e+09  0.998293  0.000000e+00  0.000000e+00        1   \n",
       "2   486000000.0  1.155625e+09  0.998824  0.000000e+00  0.000000e+00        1   \n",
       "3   486000000.0  1.155625e+09  0.697824  2.430000e+07  5.502976e+07        1   \n",
       "4   486000000.0  1.155625e+09  0.692680  2.430000e+07  0.000000e+00        1   \n",
       "5   486000000.0  1.155625e+09  0.703680  2.314286e+07  0.000000e+00        1   \n",
       "6   486000000.0  1.155625e+09  0.703680  2.430000e+07  0.000000e+00        1   \n",
       "7   486000000.0  1.155625e+09  0.700680  0.000000e+00  0.000000e+00        1   \n",
       "8   486000000.0  1.155625e+09  0.692680  2.430000e+07  0.000000e+00        1   \n",
       "9   486000000.0  1.155625e+09  0.688680  0.000000e+00  0.000000e+00        1   \n",
       "10  486000000.0  1.155625e+09  0.688680  2.314286e+07  0.000000e+00        1   \n",
       "\n",
       "    p_total  \n",
       "1     3.416  \n",
       "2     3.416  \n",
       "3     3.115  \n",
       "4     3.107  \n",
       "5     3.118  \n",
       "6     3.118  \n",
       "7     3.115  \n",
       "8     3.107  \n",
       "9     3.103  \n",
       "10    3.103  "
      ]
     },
     "execution_count": 92,
     "metadata": {},
     "output_type": "execute_result"
    }
   ],
   "source": [
    "data_filtered.head(10)"
   ]
  },
  {
   "cell_type": "code",
   "execution_count": 105,
   "metadata": {},
   "outputs": [],
   "source": [
    "X = data_filtered.loc[:, [\"aVVFb\", \"vvf_b\", \"aVVFl\", \"vvf_l\", \"gpu_mem\"]]\n",
    "y = data_filtered.p_dyn#p_total\n",
    "\n",
    "# Estimate C values for the model (built-in cross validation):\n",
    "DPM = RidgeCV(alphas = np.linspace(.1, 10, 50), cv=2)\n",
    "# # Create training and test sets:\n",
    "X_train, X_test, y_train, y_test = train_test_split(X, y, test_size=0.30, random_state=42, shuffle=True) \n",
    "DPM = DPM.fit(X_train,y_train)\n",
    "P = DPM.predict(X_test)"
   ]
  },
  {
   "cell_type": "code",
   "execution_count": 106,
   "metadata": {},
   "outputs": [
    {
     "data": {
      "text/plain": [
       "0.83026165079801995"
      ]
     },
     "execution_count": 106,
     "metadata": {},
     "output_type": "execute_result"
    }
   ],
   "source": [
    "R = DPM.score(X_test, y_test)\n",
    "R"
   ]
  },
  {
   "cell_type": "code",
   "execution_count": 107,
   "metadata": {},
   "outputs": [
    {
     "data": {
      "text/plain": [
       "0.10540280142915501"
      ]
     },
     "execution_count": 107,
     "metadata": {},
     "output_type": "execute_result"
    }
   ],
   "source": [
    "mean_squared_error( list(y_test.values), list(P) )"
   ]
  },
  {
   "cell_type": "code",
   "execution_count": 108,
   "metadata": {},
   "outputs": [
    {
     "data": {
      "text/html": [
       "<div>\n",
       "<style>\n",
       "    .dataframe thead tr:only-child th {\n",
       "        text-align: right;\n",
       "    }\n",
       "\n",
       "    .dataframe thead th {\n",
       "        text-align: left;\n",
       "    }\n",
       "\n",
       "    .dataframe tbody tr th {\n",
       "        vertical-align: top;\n",
       "    }\n",
       "</style>\n",
       "<table border=\"1\" class=\"dataframe\">\n",
       "  <thead>\n",
       "    <tr style=\"text-align: right;\">\n",
       "      <th></th>\n",
       "      <th>0</th>\n",
       "      <th>1</th>\n",
       "      <th>2</th>\n",
       "      <th>3</th>\n",
       "      <th>4</th>\n",
       "      <th>5</th>\n",
       "      <th>6</th>\n",
       "      <th>7</th>\n",
       "      <th>8</th>\n",
       "      <th>9</th>\n",
       "      <th>...</th>\n",
       "      <th>32990</th>\n",
       "      <th>32991</th>\n",
       "      <th>32992</th>\n",
       "      <th>32993</th>\n",
       "      <th>32994</th>\n",
       "      <th>32995</th>\n",
       "      <th>32996</th>\n",
       "      <th>32997</th>\n",
       "      <th>32998</th>\n",
       "      <th>32999</th>\n",
       "    </tr>\n",
       "  </thead>\n",
       "  <tbody>\n",
       "    <tr>\n",
       "      <th>0</th>\n",
       "      <td>3.051039</td>\n",
       "      <td>1.346021</td>\n",
       "      <td>0.834869</td>\n",
       "      <td>1.424518</td>\n",
       "      <td>1.133220</td>\n",
       "      <td>1.079129</td>\n",
       "      <td>1.309311</td>\n",
       "      <td>0.693931</td>\n",
       "      <td>1.597234</td>\n",
       "      <td>0.918281</td>\n",
       "      <td>...</td>\n",
       "      <td>1.449221</td>\n",
       "      <td>0.740827</td>\n",
       "      <td>1.428144</td>\n",
       "      <td>0.843197</td>\n",
       "      <td>1.148202</td>\n",
       "      <td>1.458916</td>\n",
       "      <td>1.067906</td>\n",
       "      <td>1.304347</td>\n",
       "      <td>2.239034</td>\n",
       "      <td>1.137170</td>\n",
       "    </tr>\n",
       "    <tr>\n",
       "      <th>1</th>\n",
       "      <td>3.512941</td>\n",
       "      <td>1.383451</td>\n",
       "      <td>0.822042</td>\n",
       "      <td>1.440087</td>\n",
       "      <td>0.929085</td>\n",
       "      <td>1.230357</td>\n",
       "      <td>1.325444</td>\n",
       "      <td>0.711696</td>\n",
       "      <td>1.961784</td>\n",
       "      <td>0.705372</td>\n",
       "      <td>...</td>\n",
       "      <td>1.280336</td>\n",
       "      <td>0.671372</td>\n",
       "      <td>0.991310</td>\n",
       "      <td>0.966053</td>\n",
       "      <td>1.569027</td>\n",
       "      <td>1.353550</td>\n",
       "      <td>0.962220</td>\n",
       "      <td>0.711129</td>\n",
       "      <td>2.230727</td>\n",
       "      <td>1.248887</td>\n",
       "    </tr>\n",
       "  </tbody>\n",
       "</table>\n",
       "<p>2 rows × 33000 columns</p>\n",
       "</div>"
      ],
      "text/plain": [
       "      0         1         2         3         4         5         6      \\\n",
       "0  3.051039  1.346021  0.834869  1.424518  1.133220  1.079129  1.309311   \n",
       "1  3.512941  1.383451  0.822042  1.440087  0.929085  1.230357  1.325444   \n",
       "\n",
       "      7         8         9        ...        32990     32991     32992  \\\n",
       "0  0.693931  1.597234  0.918281    ...     1.449221  0.740827  1.428144   \n",
       "1  0.711696  1.961784  0.705372    ...     1.280336  0.671372  0.991310   \n",
       "\n",
       "      32993     32994     32995     32996     32997     32998     32999  \n",
       "0  0.843197  1.148202  1.458916  1.067906  1.304347  2.239034  1.137170  \n",
       "1  0.966053  1.569027  1.353550  0.962220  0.711129  2.230727  1.248887  \n",
       "\n",
       "[2 rows x 33000 columns]"
      ]
     },
     "execution_count": 108,
     "metadata": {},
     "output_type": "execute_result"
    }
   ],
   "source": [
    "pd.DataFrame([list(P), list(y_test.values)] )"
   ]
  },
  {
   "cell_type": "code",
   "execution_count": 109,
   "metadata": {},
   "outputs": [],
   "source": [
    "# Load some other data and test/plot it:\n",
    "f_test = \"../blackscholes_benchmarking/userspace_ondemand_blackscholes.csv\"\n",
    "# f_test = \"../random_test2.csv\"\n",
    "to_plot = pd.read_csv(f_test, index_col=False, header=0, sep='\\t')\n",
    "other_XY = process_dataframe_list([to_plot])"
   ]
  },
  {
   "cell_type": "code",
   "execution_count": 110,
   "metadata": {},
   "outputs": [],
   "source": [
    "X_plot = other_XY.loc[:, [\"aVVFb\", \"vvf_b\", \"aVVFl\", \"vvf_l\", \"gpu_mem\"]]\n",
    "y_plot = other_XY.p_dyn"
   ]
  },
  {
   "cell_type": "code",
   "execution_count": 111,
   "metadata": {},
   "outputs": [
    {
     "data": {
      "text/plain": [
       "0.96747132144940939"
      ]
     },
     "execution_count": 111,
     "metadata": {},
     "output_type": "execute_result"
    }
   ],
   "source": [
    "P_plot = DPM.predict(X_plot)\n",
    "DPM.score(X_plot, y_plot)"
   ]
  },
  {
   "cell_type": "code",
   "execution_count": 112,
   "metadata": {},
   "outputs": [
    {
     "data": {
      "text/plain": [
       "0.16804096861943182"
      ]
     },
     "execution_count": 112,
     "metadata": {},
     "output_type": "execute_result"
    }
   ],
   "source": [
    "mean_squared_error( list(y_plot.values), list(P_plot) )"
   ]
  },
  {
   "cell_type": "code",
   "execution_count": 113,
   "metadata": {},
   "outputs": [
    {
     "data": {
      "image/png": "[encoded data removed]",
      "text/plain": [
       "<matplotlib.figure.Figure at 0x7ff5754d5ac8>"
      ]
     },
     "metadata": {},
     "output_type": "display_data"
    }
   ],
   "source": [
    "plt.rcParams[\"figure.figsize\"] = [20,10]\n",
    "plt.plot(range(len(P_plot)), P_plot, label=\"Predicted p_dyn\")\n",
    "y_plot.plot(label=\"True p_dyn\")\n",
    "plt.legend()\n",
    "plt.show()"
   ]
  },
  {
   "cell_type": "code",
   "execution_count": 114,
   "metadata": {},
   "outputs": [
    {
     "data": {
      "text/plain": [
       "array([ 0.55566051,  0.55566051,  0.5556605 ,  0.5556605 ,  0.5556605 ])"
      ]
     },
     "execution_count": 114,
     "metadata": {},
     "output_type": "execute_result"
    }
   ],
   "source": [
    "X_hack = np.identity(5)\n",
    "y_hack = DPM.predict(X_hack)\n",
    "y_hack"
   ]
  },
  {
   "cell_type": "code",
   "execution_count": null,
   "metadata": {},
   "outputs": [],
   "source": []
  }
 ],
 "metadata": {
  "kernelspec": {
   "display_name": "Python 3",
   "language": "python",
   "name": "python3"
  },
  "language_info": {
   "codemirror_mode": {
    "name": "ipython",
    "version": 3
   },
   "file_extension": ".py",
   "mimetype": "text/x-python",
   "name": "python",
   "nbconvert_exporter": "python",
   "pygments_lexer": "ipython3",
   "version": "3.5.2"
  }
 },
 "nbformat": 4,
 "nbformat_minor": 2
}
